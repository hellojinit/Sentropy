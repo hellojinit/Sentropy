{
 "cells": [
  {
   "cell_type": "code",
   "execution_count": 1,
   "metadata": {
    "pycharm": {
     "name": "#%%\n"
    }
   },
   "outputs": [],
   "source": [
    "import numpy as np"
   ]
  },
  {
   "cell_type": "code",
   "execution_count": 18,
   "metadata": {
    "pycharm": {
     "name": "#%%\n"
    }
   },
   "outputs": [],
   "source": [
    "X = np.array([5,5,7,8,9,9])\n",
    "def sentropy(ts):\n",
    "    unique, counts = np.unique(ts, return_counts = True)\n",
    "    print(\"Unique: \", unique)\n",
    "    print(\"Counts: \", counts)\n",
    "    prob = []\n",
    "    for i in counts:\n",
    "        prob.append(i/len(ts))\n",
    "    return -np.sum(np.dot(prob, np.log2(prob)))"
   ]
  },
  {
   "cell_type": "code",
   "execution_count": 19,
   "metadata": {
    "pycharm": {
     "name": "#%%\n"
    }
   },
   "outputs": [
    {
     "name": "stdout",
     "output_type": "stream",
     "text": [
      "[5 5 7 8 9 9]\n",
      "Unique:  [5 7 8 9]\n",
      "Counts:  [2 1 1 2]\n",
      "1.9182958340544896\n"
     ]
    }
   ],
   "source": [
    "print(X)\n",
    "print(sentropy(X))"
   ]
  },
  {
   "cell_type": "code",
   "execution_count": null,
   "metadata": {
    "pycharm": {
     "name": "#%%\n"
    }
   },
   "outputs": [],
   "source": []
  }
 ],
 "metadata": {
  "kernelspec": {
   "display_name": "Python 3",
   "language": "python",
   "name": "python3"
  },
  "language_info": {
   "codemirror_mode": {
    "name": "ipython",
    "version": 3
   },
   "file_extension": ".py",
   "mimetype": "text/x-python",
   "name": "python",
   "nbconvert_exporter": "python",
   "pygments_lexer": "ipython3",
   "version": "3.8.5"
  }
 },
 "nbformat": 4,
 "nbformat_minor": 4
}